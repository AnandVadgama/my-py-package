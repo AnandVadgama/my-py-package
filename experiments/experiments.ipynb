{
 "cells": [
  {
   "cell_type": "code",
   "execution_count": 4,
   "metadata": {},
   "outputs": [],
   "source": [
    "database = client['someex']"
   ]
  },
  {
   "cell_type": "code",
   "execution_count": 5,
   "metadata": {},
   "outputs": [],
   "source": [
    "collection = database['session']"
   ]
  },
  {
   "cell_type": "code",
   "execution_count": 6,
   "metadata": {},
   "outputs": [],
   "source": [
    "data={\n",
    "\n",
    "    \"coursename\":\"genai\",\n",
    "    \"instrutorname\":\"sunny\",\n",
    "    \"modeofsession\":\"english\"\n",
    "}"
   ]
  },
  {
   "cell_type": "code",
   "execution_count": 7,
   "metadata": {},
   "outputs": [
    {
     "data": {
      "text/plain": [
       "{'coursename': 'genai', 'instrutorname': 'sunny', 'modeofsession': 'english'}"
      ]
     },
     "execution_count": 7,
     "metadata": {},
     "output_type": "execute_result"
    }
   ],
   "source": [
    "data"
   ]
  },
  {
   "cell_type": "code",
   "execution_count": 8,
   "metadata": {},
   "outputs": [
    {
     "data": {
      "text/plain": [
       "InsertOneResult(ObjectId('6857ebc98d40486cfd8d81b3'), acknowledged=True)"
      ]
     },
     "execution_count": 8,
     "metadata": {},
     "output_type": "execute_result"
    }
   ],
   "source": [
    "collection.insert_one(data)"
   ]
  },
  {
   "cell_type": "code",
   "execution_count": 16,
   "metadata": {},
   "outputs": [],
   "source": [
    "all_rec = collection.find()"
   ]
  },
  {
   "cell_type": "code",
   "execution_count": 17,
   "metadata": {},
   "outputs": [
    {
     "name": "stdout",
     "output_type": "stream",
     "text": [
      "{'_id': ObjectId('6857ebc98d40486cfd8d81b3'), 'coursename': 'genai', 'instrutorname': 'sunny', 'modeofsession': 'english'}\n"
     ]
    }
   ],
   "source": [
    "for records in all_rec:\n",
    "    print(records)"
   ]
  },
  {
   "cell_type": "code",
   "execution_count": 33,
   "metadata": {},
   "outputs": [
    {
     "data": {
      "text/plain": [
       "InsertManyResult([ObjectId('6857f8138d40486cfd8d81b6'), ObjectId('6857f8138d40486cfd8d81b7')], acknowledged=True)"
      ]
     },
     "execution_count": 33,
     "metadata": {},
     "output_type": "execute_result"
    }
   ],
   "source": [
    "collection.insert_many(\n",
    "    [\n",
    "        {\n",
    "\n",
    "    \"coursename\":\"genai\",\n",
    "    \"instrutorname\":\"sunny\",\n",
    "    \"modeofsession\":\"english\"\n",
    "},\n",
    "\n",
    "{\n",
    "\n",
    "    \"coursename\":\"mlops\",\n",
    "    \"instrutorname\":\"sunnysavita\",\n",
    "    \"modeofsession\":\"english&hindi\"\n",
    "}\n",
    "        \n",
    "    ]\n",
    ")"
   ]
  },
  {
   "cell_type": "code",
   "execution_count": 39,
   "metadata": {},
   "outputs": [],
   "source": [
    "import json\n",
    "import pandas as pd\n",
    "\n",
    "\n",
    "class mongodb_operation:\n",
    "    def __init__(self, client_url: str , database_name: str, collection_name: str=None):\n",
    "        self.client_url = client_url\n",
    "        self.database_name = database_name\n",
    "        self.collection_name = collection_name\n",
    "\n",
    "    def create_client(self):\n",
    "        client = MongoClient(self.client_url)\n",
    "        return client\n",
    "\n",
    "    def create_database(self):\n",
    "        client = self.create_client()\n",
    "        database = client[self.database_name]\n",
    "        return database\n",
    "\n",
    "    def create_collection(self,collection=None):\n",
    "        database = self.create_database()\n",
    "        collection = database[collection]\n",
    "        return collection\n",
    "\n",
    "    def insert_record(self, record: dict, collection_name: str):\n",
    "        if type(record)==list:\n",
    "            for i in records:\n",
    "                if type(data) != dict:\n",
    "                    raise TypeError(\"record must be in dictionary\")\n",
    "            collection = self.create_collection(collection_name)\n",
    "            collection.insert_many(record)\n",
    "        elif type(record)==dict:\n",
    "            collection = self.create_collection(collection_name)\n",
    "            collection.insert_one(record)\n",
    "\n",
    "    def bulk_insert(self,datafile: str, collection_name: str=None):\n",
    "        self.path = datafile\n",
    "\n",
    "        if self.path.endswith('.csv'):\n",
    "            data= pd.read_csv(self.path, encoding = 'utf-8')\n",
    "\n",
    "        elif self.path.endswith('.xlsx'):\n",
    "            data= pd.read_excel(self.path, encoding = 'utf-8')\n",
    "\n",
    "        jsondata = json.loads(data.to_json(orient='record'))\n",
    "        collection= self.create_collection(collection_name)\n",
    "        collection.insert_many(jsondata)"
   ]
  },
  {
   "cell_type": "code",
   "execution_count": 40,
   "metadata": {},
   "outputs": [],
   "source": [
    "client_url = \"MONGO_URL\"\n",
    "database_name = \"mynewdatabase\"\n",
    "collection_name = \"myoldcolumn\""
   ]
  },
  {
   "cell_type": "code",
   "execution_count": 41,
   "metadata": {},
   "outputs": [],
   "source": [
    "mongo = mongodb_operation(client_url, database_name, collection_name)"
   ]
  },
  {
   "cell_type": "code",
   "execution_count": 42,
   "metadata": {},
   "outputs": [],
   "source": [
    "mongo.insert_record({\"name\":\"sunny\",\"designation\":\"data scientist\",\"salary\":\"10k\"},collection_name)"
   ]
  },
  {
   "cell_type": "code",
   "execution_count": 43,
   "metadata": {},
   "outputs": [],
   "source": [
    "mongo.insert_record([{\"name\":\"sunny\",\"designation\":\"data scientist\",\"salary\":\"10k\"},\n",
    "{\"name\":\"sudhanshu\",\"designation\":\"sr. data scientist\",\"salary\":\"150k\"},\n",
    "{\"name\":\"krish\",\"designation\":\"lead data scientist\",\"salary\":\"70k\"}\n",
    "],collection_name)"
   ]
  }
 ],
 "metadata": {
  "kernelspec": {
   "display_name": "mlops",
   "language": "python",
   "name": "python3"
  },
  "language_info": {
   "codemirror_mode": {
    "name": "ipython",
    "version": 3
   },
   "file_extension": ".py",
   "mimetype": "text/x-python",
   "name": "python",
   "nbconvert_exporter": "python",
   "pygments_lexer": "ipython3",
   "version": "3.10.18"
  }
 },
 "nbformat": 4,
 "nbformat_minor": 2
}
